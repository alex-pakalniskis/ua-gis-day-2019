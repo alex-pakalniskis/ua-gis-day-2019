{
  "nbformat": 4,
  "nbformat_minor": 0,
  "metadata": {
    "colab": {
      "name": "ua-gis-day-2019.ipynb",
      "provenance": [],
      "collapsed_sections": [],
      "include_colab_link": true
    },
    "kernelspec": {
      "name": "python3",
      "display_name": "Python 3"
    }
  },
  "cells": [
    {
      "cell_type": "markdown",
      "metadata": {
        "id": "view-in-github",
        "colab_type": "text"
      },
      "source": [
        "<a href=\"https://colab.research.google.com/github/alex-pakalniskis/ua-gis-day-2019/blob/master/notebooks/ua_gis_day_2019.ipynb\" target=\"_parent\"><img src=\"https://colab.research.google.com/assets/colab-badge.svg\" alt=\"Open In Colab\"/></a>"
      ]
    },
    {
      "cell_type": "markdown",
      "metadata": {
        "id": "ZqWuAVLOBxFP",
        "colab_type": "text"
      },
      "source": [
        "# Install open-source GIS software on Google cloud computer"
      ]
    },
    {
      "cell_type": "code",
      "metadata": {
        "id": "vGIDKQkW1vVY",
        "colab_type": "code",
        "colab": {}
      },
      "source": [
        "# Install curl (https://curl.haxx.se/), g++ (https://en.wikipedia.org/wiki/GNU_Compiler_Collection), and make (https://en.wikipedia.org/wiki/Make_(software)) on the remote machine you are using\n",
        "!apt-get install -qq curl g++ make\n",
        "# Use curl to download zippied spatial indexing software from Open Source Geospatial Foundation (https://www.osgeo.org/) and use tar to unzip\n",
        "!curl -s -L http://download.osgeo.org/libspatialindex/spatialindex-src-1.8.5.tar.gz | tar xz\n",
        "# Python library for operating system specific tasks such as changing directories (https://docs.python.org/3/library/os.html)\n",
        "import os\n",
        "# Change current working directory to newly unzipped OSGEO spatial indexing software\n",
        "os.chdir('spatialindex-src-1.8.5')\n",
        "# Configure software and dependencies for install on remote Google computer\n",
        "!./configure\n",
        "# Build software from its Makefile (https://en.wikipedia.org/wiki/Makefile) by invoking make (https://en.wikipedia.org/wiki/Make_(software))\n",
        "!make\n",
        "# Copy built software and files to correct locations for accessing later\n",
        "!make install\n",
        "# Use pip Python package manager (https://en.wikipedia.org/wiki/Pip_(package_manager)) to install rtree (http://toblerity.org/rtree/)\n",
        "# Python-wrapper for libspatialindex, a C++ library (https://libspatialindex.org/) for implementing R-tree data access (https://en.wikipedia.org/wiki/R-tree)\n",
        "# http://toblerity.org/rtree/\n",
        "!pip -q install rtree\n",
        "# Configure (symbolic) links with ldconfig (https://linux.die.net/man/8/ldconfig)\n",
        "!ldconfig\n",
        "# Python spatial indexing library\n",
        "import rtree\n",
        "from rtree import index\n",
        "from rtree.index import Rtree\n",
        "# Check for packages which need updating and install the development branch of libspatialindex onto the remote Google cloud computer with a linux OS\n",
        "!sudo apt-get update && apt-get install -y libspatialindex-dev\n",
        "# Install descartes (https://pypi.org/project/descartes/) to enable plotting planar geometric vector objects in matplotlib\n",
        "!pip -q install descartes\n",
        "# Spatial version of Pandas library for GIS data management and basic analyses (http://geopandas.org/)\n",
        "!pip -q install geopandas \n",
        "\n",
        "# Library for zonal statistics and interpolated point queries (https://pythonhosted.org/rasterstats/)\n",
        "!pip -q install rasterstats\n",
        "\n",
        "# Rasterio reads and writes TIFF files and provides a Python API based on Numpy N-dimensional arrays and GeoJSON\n",
        "!pip -q install rasterio\n",
        "\n",
        "# Helper libraries\n",
        "!pip install adjustText\n",
        "!pip install urbanaccess pandana\n",
        "\n",
        "# Download files from Google Drive more easily\n",
        "!pip install gdown\n",
        "\n",
        "# Upgrade all the installed software\n",
        "!sudo apt-get upgrade"
      ],
      "execution_count": 0,
      "outputs": []
    },
    {
      "cell_type": "markdown",
      "metadata": {
        "id": "hB2JupCRB4TW",
        "colab_type": "text"
      },
      "source": [
        "# Import open-source GIS software libraries for analysis and visualization"
      ]
    },
    {
      "cell_type": "code",
      "metadata": {
        "id": "8Tb0WmfE13eY",
        "colab_type": "code",
        "colab": {}
      },
      "source": [
        "# Set the current working directory to \"home\"\n",
        "import os\n",
        "os.chdir(\"/home/\")\n",
        "\n",
        "# Data management and analysis library with emphasis on tabular data. Widely used in research and industry, as it was initially developed for financial analyses of stocks. Comes preloaded in Colaboratory. \n",
        "import pandas as pd\n",
        "\n",
        "import fiona\n",
        "\n",
        "import geopandas as gpd\n",
        "\n",
        "# Colaboratory helper library for importing and downloading locally stored files into the remote Google machine\n",
        "import google.colab.files\n",
        "\n",
        "# Library for reading and writing geospatial raster data such as TIFFS (https://rasterio.readthedocs.io/en/stable/quickstart.html)\n",
        "import rasterio\n",
        "from rasterio.plot import show\n",
        "\n",
        "# Library for zonal statistics\n",
        "import rasterstats\n",
        "from rasterstats import zonal_stats\n",
        "\n",
        "# Pyplot sublibrary of matplotlib for legendandary visualization parameterization capabilities\n",
        "import matplotlib.pyplot as plt\n",
        "import matplotlib.patches as mpatches\n",
        "from mpl_toolkits.axes_grid1 import make_axes_locatable\n",
        "\n",
        "# Great, newer visualization library built-on matplotlib but with more modern styling. Comes preloaded in Colaboratory. (https://seaborn.pydata.org/)\n",
        "import seaborn as sns\n",
        "\n",
        "# Styling library to reduce label overlap in matplotlib\n",
        "from adjustText import adjust_text\n",
        "\n",
        "# Setting global plot style aesthetics through seaborn\n",
        "sns.set(context=\"notebook\", palette=\"colorblind\")"
      ],
      "execution_count": 0,
      "outputs": []
    },
    {
      "cell_type": "markdown",
      "metadata": {
        "id": "L1UwG5ZvBenS",
        "colab_type": "text"
      },
      "source": [
        "# Download US county boundaries shapefile from the US Census with `wget`"
      ]
    },
    {
      "cell_type": "code",
      "metadata": {
        "id": "rLn52B9q2MdD",
        "colab_type": "code",
        "colab": {}
      },
      "source": [
        "!wget -q https://www2.census.gov/geo/tiger/GENZ2018/shp/cb_2018_us_county_500k.zip "
      ],
      "execution_count": 0,
      "outputs": []
    },
    {
      "cell_type": "markdown",
      "metadata": {
        "id": "0qhL5nQDBj-B",
        "colab_type": "text"
      },
      "source": [
        "# Unzip the data with `unzip`"
      ]
    },
    {
      "cell_type": "code",
      "metadata": {
        "id": "uKZ020hr2Xrz",
        "colab_type": "code",
        "colab": {}
      },
      "source": [
        "!unzip cb_2018_us_county_500k.zip"
      ],
      "execution_count": 0,
      "outputs": []
    },
    {
      "cell_type": "markdown",
      "metadata": {
        "id": "SIWsS3PnB9iB",
        "colab_type": "text"
      },
      "source": [
        "# Read shapefile data with `geopandas`"
      ]
    },
    {
      "cell_type": "code",
      "metadata": {
        "id": "4GUL3Vk42X2p",
        "colab_type": "code",
        "colab": {}
      },
      "source": [
        "county_gdf = gpd.read_file(\"cb_2018_us_county_500k.shp\")"
      ],
      "execution_count": 0,
      "outputs": []
    },
    {
      "cell_type": "markdown",
      "metadata": {
        "id": "mi4Ytn1JCB5w",
        "colab_type": "text"
      },
      "source": [
        "# Check the shapefile [projection](https://en.wikipedia.org/wiki/Map_projection)"
      ]
    },
    {
      "cell_type": "code",
      "metadata": {
        "id": "i1Xtv0hc2lNo",
        "colab_type": "code",
        "colab": {}
      },
      "source": [
        "county_gdf.crs"
      ],
      "execution_count": 0,
      "outputs": []
    },
    {
      "cell_type": "markdown",
      "metadata": {
        "id": "l9EXl5IGCPfh",
        "colab_type": "text"
      },
      "source": [
        "# Display the first five rows"
      ]
    },
    {
      "cell_type": "code",
      "metadata": {
        "id": "oUtgCC7S2lSV",
        "colab_type": "code",
        "colab": {}
      },
      "source": [
        "county_gdf.head()"
      ],
      "execution_count": 0,
      "outputs": []
    },
    {
      "cell_type": "markdown",
      "metadata": {
        "id": "tao6qplgCSWR",
        "colab_type": "text"
      },
      "source": [
        "# Return the shape of the data set"
      ]
    },
    {
      "cell_type": "code",
      "metadata": {
        "id": "h-WJQ1VpJ-O7",
        "colab_type": "code",
        "colab": {}
      },
      "source": [
        "county_gdf.shape"
      ],
      "execution_count": 0,
      "outputs": []
    },
    {
      "cell_type": "markdown",
      "metadata": {
        "id": "Z2t_cQYUGdFv",
        "colab_type": "text"
      },
      "source": [
        "# Return the unique STATEFP values ([Federal Information Processing Standard state code](https://en.wikipedia.org/wiki/Federal_Information_Processing_Standard_state_code))"
      ]
    },
    {
      "cell_type": "code",
      "metadata": {
        "id": "UbH5YoD3JiVb",
        "colab_type": "code",
        "colab": {}
      },
      "source": [
        "county_gdf[\"STATEFP\"].unique()"
      ],
      "execution_count": 0,
      "outputs": []
    },
    {
      "cell_type": "markdown",
      "metadata": {
        "id": "KUJ1KEq3Gwct",
        "colab_type": "text"
      },
      "source": [
        "# Count the number of unique STATEFP codes. What number do you expect?"
      ]
    },
    {
      "cell_type": "code",
      "metadata": {
        "id": "PuKByrkAKG9y",
        "colab_type": "code",
        "colab": {}
      },
      "source": [
        "len(county_gdf[\"STATEFP\"].unique())"
      ],
      "execution_count": 0,
      "outputs": []
    },
    {
      "cell_type": "markdown",
      "metadata": {
        "id": "xqAEM5tdG2Nh",
        "colab_type": "text"
      },
      "source": [
        "# Were you right? If not, what might have you forgotten?\n",
        "\n",
        "# Subset the country-wide county data set for Arizona. Do the county names look familiar?"
      ]
    },
    {
      "cell_type": "code",
      "metadata": {
        "id": "d0pK3HI0Lec1",
        "colab_type": "code",
        "colab": {}
      },
      "source": [
        "county_gdf[county_gdf[\"STATEFP\"] == \"04\"]"
      ],
      "execution_count": 0,
      "outputs": []
    },
    {
      "cell_type": "markdown",
      "metadata": {
        "id": "DRL7KW5gHRMA",
        "colab_type": "text"
      },
      "source": [
        "# Plot the subset to visually verify"
      ]
    },
    {
      "cell_type": "code",
      "metadata": {
        "id": "Tw3cxnB44N0O",
        "colab_type": "code",
        "colab": {}
      },
      "source": [
        "county_gdf[county_gdf[\"STATEFP\"] == \"04\"].plot(cmap=\"Oranges\")"
      ],
      "execution_count": 0,
      "outputs": []
    },
    {
      "cell_type": "markdown",
      "metadata": {
        "id": "4U7yb_UNHYPM",
        "colab_type": "text"
      },
      "source": [
        "# Create a new DataFrame from a copy of the Arizona subset"
      ]
    },
    {
      "cell_type": "code",
      "metadata": {
        "id": "ZKo9wzs44N3N",
        "colab_type": "code",
        "colab": {}
      },
      "source": [
        "arizona_counties = county_gdf[county_gdf[\"STATEFP\"] == \"04\"].copy()"
      ],
      "execution_count": 0,
      "outputs": []
    },
    {
      "cell_type": "code",
      "metadata": {
        "id": "rcPKBhtD4N52",
        "colab_type": "code",
        "colab": {}
      },
      "source": [
        "arizona_counties.centroid"
      ],
      "execution_count": 0,
      "outputs": []
    },
    {
      "cell_type": "code",
      "metadata": {
        "id": "M023qoy7JLq3",
        "colab_type": "code",
        "colab": {}
      },
      "source": [
        "fig, ax = plt.subplots(figsize=(10,10))\n",
        "arizona_counties.plot(ax=ax, cmap=\"Oranges\")\n",
        "arizona_counties.centroid.plot(ax=ax, cmap=\"Greens_r\")"
      ],
      "execution_count": 0,
      "outputs": []
    },
    {
      "cell_type": "markdown",
      "metadata": {
        "id": "wym4vf45IZYh",
        "colab_type": "text"
      },
      "source": [
        "# Calculate the area of each county\n",
        "* Project the UTM 12N\n",
        "* Calculate area\n",
        "* Convert area from ${m^2}$ to ${km^2}$"
      ]
    },
    {
      "cell_type": "code",
      "metadata": {
        "id": "B1we9rrjH18A",
        "colab_type": "code",
        "colab": {}
      },
      "source": [
        "arizona_counties.to_crs(\"EPSG:32612\").area*(10**-6)"
      ],
      "execution_count": 0,
      "outputs": []
    },
    {
      "cell_type": "markdown",
      "metadata": {
        "id": "ppTxZFrCLEXZ",
        "colab_type": "text"
      },
      "source": [
        "# Return the outer boundary of counties (i.e. Arizona border)\n",
        "Likewise, plot the centroid for the state."
      ]
    },
    {
      "cell_type": "code",
      "metadata": {
        "id": "OfI3kq1VJLtb",
        "colab_type": "code",
        "colab": {}
      },
      "source": [
        "fig, ax = plt.subplots()\n",
        "gpd.GeoSeries(arizona_counties.unary_union).plot(ax=ax, color=\"orange\")\n",
        "gpd.GeoSeries(arizona_counties.unary_union).centroid.plot(ax=ax, color=\"green\")\n",
        "plt.show()"
      ],
      "execution_count": 0,
      "outputs": []
    },
    {
      "cell_type": "markdown",
      "metadata": {
        "id": "EngHxZ4Si0ZK",
        "colab_type": "text"
      },
      "source": [
        "# Save the clipped Arizona county boundaries to file"
      ]
    },
    {
      "cell_type": "code",
      "metadata": {
        "id": "0ACCle5Ei3JA",
        "colab_type": "code",
        "colab": {}
      },
      "source": [
        "arizona_counties.to_file(\"arizona_county_boundaries.geojson\", driver=\"GeoJSON\")"
      ],
      "execution_count": 0,
      "outputs": []
    },
    {
      "cell_type": "markdown",
      "metadata": {
        "id": "1VOtZOk495Rx",
        "colab_type": "text"
      },
      "source": [
        "# Download the Arizona Land Cover change data (stored as a zipped TIFF on Google Drive)\n",
        "\n",
        "https://drive.google.com/file/d/1bFudz1SDazEHa4liUnA8Xf0uWHyRzA3n/view?usp=sharing\n",
        "\n",
        "# Slightly tweak the URL to be appropriate for `gdown` usage\n",
        "\n",
        "https://drive.google.com/uc?id= [FILE ID], where [FILE ID] = 1bFudz1SDazEHa4liUnA8Xf0uWHyRzA3n"
      ]
    },
    {
      "cell_type": "code",
      "metadata": {
        "id": "e933KNGQ4OAr",
        "colab_type": "code",
        "colab": {}
      },
      "source": [
        "!gdown https://drive.google.com/uc?id=1bFudz1SDazEHa4liUnA8Xf0uWHyRzA3n"
      ],
      "execution_count": 0,
      "outputs": []
    },
    {
      "cell_type": "markdown",
      "metadata": {
        "id": "6AhF0mxWL9te",
        "colab_type": "text"
      },
      "source": [
        "# Unzip the raster data"
      ]
    },
    {
      "cell_type": "code",
      "metadata": {
        "id": "wrmGjwcZ-TLL",
        "colab_type": "code",
        "colab": {}
      },
      "source": [
        "!unzip arizona_esa_landcover_1992_2015.zip"
      ],
      "execution_count": 0,
      "outputs": []
    },
    {
      "cell_type": "markdown",
      "metadata": {
        "id": "eK7RvAUQMCqA",
        "colab_type": "text"
      },
      "source": [
        "# Use `rasterio` to read the data"
      ]
    },
    {
      "cell_type": "code",
      "metadata": {
        "id": "QfFVdLAXEGcF",
        "colab_type": "code",
        "colab": {}
      },
      "source": [
        "src = rasterio.open(\"arizona_esa_landcover_1992_2015.tif\")"
      ],
      "execution_count": 0,
      "outputs": []
    },
    {
      "cell_type": "markdown",
      "metadata": {
        "id": "wYW_l7kHMFyC",
        "colab_type": "text"
      },
      "source": [
        "# Write a convenience function for mapping a band of raster data (with automatic descriptive titles)"
      ]
    },
    {
      "cell_type": "code",
      "metadata": {
        "id": "yf7nijs4FqRW",
        "colab_type": "code",
        "colab": {}
      },
      "source": [
        "def plot_a_band(file, band_number, cmap):\n",
        "\n",
        "  fig, ax = plt.subplots(figsize=(5,5))\n",
        "\n",
        "  src = rasterio.open(file)\n",
        "\n",
        "  show((src, band_number), cmap=cmap, ax=ax)\n",
        "  plt.title(\"Land Cover in {}\".format(band_number+1991), fontsize=\"x-large\")\n",
        "  ax.grid(\"\") \n",
        "  plt.show()"
      ],
      "execution_count": 0,
      "outputs": []
    },
    {
      "cell_type": "code",
      "metadata": {
        "id": "eCFRP3TDF-xJ",
        "colab_type": "code",
        "colab": {}
      },
      "source": [
        "# Unlike the rest of Python, rasterio is \"1\"-indexed\n",
        "plot_a_band(\"arizona_esa_landcover_1992_2015.tif\", 1, \"gist_earth_r\")"
      ],
      "execution_count": 0,
      "outputs": []
    },
    {
      "cell_type": "code",
      "metadata": {
        "id": "3VdUjyScEGnd",
        "colab_type": "code",
        "colab": {}
      },
      "source": [
        "plot_a_band(\"arizona_esa_landcover_1992_2015.tif\", 24, \"cividis\")"
      ],
      "execution_count": 0,
      "outputs": []
    },
    {
      "cell_type": "markdown",
      "metadata": {
        "id": "sS-sHSSdMu2x",
        "colab_type": "text"
      },
      "source": [
        "# Use zonal statistics to model land cover change through time"
      ]
    },
    {
      "cell_type": "code",
      "metadata": {
        "id": "JA4f62Ln4ECz",
        "colab_type": "code",
        "colab": {}
      },
      "source": [
        "def generate_esa_landcover_timeseries_zonal_statistics(regional_landcover_data,\n",
        "                                                        zones_statistics_boundaries, \n",
        "                                                        identifier_column):\n",
        "    \n",
        "    # ESA Land cover categories\n",
        "    category_map = {0:\"No data\",\n",
        "                    10:\"Cropland, rainfed\",\n",
        "                    11:\"Herbaceous cover\",\n",
        "                    12:\"Tree or shrub cover\",\n",
        "                    20:\"Cropland, irrigated or post-flooding\",\n",
        "                    30:\"Mosaic cropland (>50%) / natural vegetation (tree, shrub, herbaceous cover) (<50%)\",\n",
        "                    40:\"Mosaic natural vegetation (tree, shrub, herbaceous cover) (>50%) / cropland (<50%)\",\n",
        "                    50:\"Tree cover, broadleaved, evergreen, closed to open (>15%)\",\n",
        "                    60:\"Tree cover, broadleaved, deciduous, closed to open (>15%)\",\n",
        "                    61:\"Tree cover, broadleaved, deciduous, closed (>40%)\",\n",
        "                    62:\"Tree cover, broadleaved, deciduous, open (15-40%)\",\n",
        "                    70:\"Tree cover, needleleaved, evergreen, closed to open (>15%)\",\n",
        "                    71:\"Tree cover, needleleaved, evergreen, closed (>40%)\",\n",
        "                    72:\"Tree cover, needleleaved, evergreen, open (15-40%)\",\n",
        "                    80:\"Tree cover, needleleaved, deciduous, closed to open (>15%)\",\n",
        "                    81:\"Tree cover, needleleaved, deciduous, closed (>40%)\",\n",
        "                    82:\"Tree cover, needleleaved, deciduous, open (15-40%)\",\n",
        "                    90:\"Tree cover, mixed leaf type (broadleaved and needleleaved)\",\n",
        "                    100:\"Mosaic tree and shrub (>50%) / herbaceous cover (<50%)\",\n",
        "                    110:\"Mosaic herbaceous cover (>50%) / tree and shrub (<50%)\",\n",
        "                    120:\"Shrubland\",\n",
        "                    121:\"Shrubland evergreen\",\n",
        "                    122:\"Shrubland deciduous\",\n",
        "                    130:\"Grassland\",\n",
        "                    140:\"Lichens and mosses\",\n",
        "                    150:\"Sparse vegetation (tree, shrub, herbaceous cover) (<15%)\",\n",
        "                    151:\"Sparse tree (<15%)\",\n",
        "                    152:\"Sparse shrub (<15%)\",\n",
        "                    153:\"Sparse herbaceous cover (<15%)\",\n",
        "                    160:\"Tree cover, flooded, fresh or brakish water\",\n",
        "                    170:\"Tree cover, flooded, saline water\",\n",
        "                    180:\"Shrub or herbaceous cover, flooded, fresh/saline/brakish water\",\n",
        "                    190:\"Urban areas\",\n",
        "                    200:\"Bare areas\",\n",
        "                    201:\"Consolidated bare areas\",\n",
        "                    202:\"Unconsolidated bare areas\",\n",
        "                    210:\"Water bodies\",\n",
        "                    220:\"Permanent snow and ice\"}\n",
        "    \n",
        "    # List of land cover category values from dictionary\n",
        "    lulcc_list = list(category_map.values())\n",
        "    lulcc_list.append(identifier_column)\n",
        "    lulcc_list.append(\"Year\")\n",
        "    \n",
        "    # Create an empty list to catch all the zonal statistics calculations (lists of dictionaries)\n",
        "    lists_of_annual_zonal_statistics = []\n",
        "\n",
        "    # Run a for loop to calculate zonal statistics for each year of land cover data (1992-2015)\n",
        "    for i in range(24):\n",
        "        lists_of_annual_zonal_statistics.append(zonal_stats(zones_statistics_boundaries,\n",
        "                                                        regional_landcover_data, \n",
        "                                                        band=i+1, \n",
        "                                                        categorical=True, \n",
        "                                                        category_map=category_map))\n",
        "        \n",
        "    # Convert the list of lists of dictionaries to a long-form pandas DataFrame\n",
        "    annual_zonal_statistics_df = pd.DataFrame(lists_of_annual_zonal_statistics).stack().apply(pd.Series)\n",
        "\n",
        "    # Rename the DataFrame multiindex levels \n",
        "    annual_zonal_statistics_df.index.names = ['Year', identifier_column]\n",
        "    \n",
        "    # Reset the DataFrame to a single index (\"county\")\n",
        "    annual_zonal_statistics_df.reset_index(level=\"Year\", inplace=True)\n",
        "\n",
        "    # Modify time index to reflect common era years\n",
        "    annual_zonal_statistics_df[\"Year\"] = pd.to_datetime(annual_zonal_statistics_df[\"Year\"] + 1992, format=\"%Y\")\n",
        "    \n",
        "    # Reset index of DataFrame entirely\n",
        "    annual_zonal_statistics_df.reset_index(inplace=True)\n",
        "    \n",
        "    # Define nested function to remove duplicate elements from a list\n",
        "    def removeDuplicates(listofElements):\n",
        "    \n",
        "    # Create an empty list to store unique elements\n",
        "        uniqueList = []\n",
        "    \n",
        "    # Iterate over the original list and for each element add it to uniqueList, if it isn't already there\n",
        "        for elem in listofElements:\n",
        "            if elem not in uniqueList:\n",
        "                uniqueList.append(elem)\n",
        "    \n",
        "    # Return the list of unique elements        \n",
        "        return uniqueList\n",
        "        \n",
        "    # Calculate pixel count within each zonal statistic boundary\n",
        "    annual_zonal_statistics_df[\"pixel_count\"] = annual_zonal_statistics_df[identifier_column].map(pd.Series(dict(zip(range(len(removeDuplicates(annual_zonal_statistics_df.sum(axis=1)))), removeDuplicates(annual_zonal_statistics_df.sum(axis=1))))))\n",
        "    \n",
        "    # Map county names to integer identifier codes\n",
        "    annual_zonal_statistics_df[identifier_column] = annual_zonal_statistics_df[identifier_column].map(gpd.read_file(zones_statistics_boundaries)[identifier_column].to_dict())\n",
        "    \n",
        "    # Convert pixel counts to percentages of total for each zone\n",
        "    annual_percentage_df = pd.DataFrame(annual_zonal_statistics_df.fillna(0).drop([identifier_column,\"Year\"], axis=1).div(annual_zonal_statistics_df.pixel_count, axis=0)*100, index=annual_zonal_statistics_df.index)\n",
        "    \n",
        "    # Append the zonal boundary identifier column\n",
        "    annual_percentage_df[identifier_column] = annual_zonal_statistics_df[identifier_column].copy()\n",
        "    \n",
        "    # Append the time identifer column\n",
        "    annual_percentage_df[\"Year\"] = annual_zonal_statistics_df[\"Year\"].copy()\n",
        "    \n",
        "    # Remove pixel_count percent of total\n",
        "    annual_percentage_df.drop([\"pixel_count\"], axis=1, inplace=True)\n",
        "    \n",
        "    # Reindex the DataFrame to the land cover categories + zonal boundary identifier and time, fill NaNs with 0\n",
        "    annual_percentage_df = annual_percentage_df.reindex(lulcc_list, axis=1).fillna(0)\n",
        "\n",
        "    # Set row index to identifier column\n",
        "    annual_percentage_df.set_index(\"Year\", inplace=True)\n",
        "      \n",
        "    return annual_percentage_df"
      ],
      "execution_count": 0,
      "outputs": []
    },
    {
      "cell_type": "markdown",
      "metadata": {
        "id": "pdmlqLvKM6OI",
        "colab_type": "text"
      },
      "source": [
        "# Create a variable to contain land cover zonal statistics time series values for each Arizona county\n",
        "* Use ESA land cover categories"
      ]
    },
    {
      "cell_type": "code",
      "metadata": {
        "id": "1jjIVJZ_4d3K",
        "colab_type": "code",
        "colab": {}
      },
      "source": [
        "arizona_esa_lc_zonal_statistics_df = generate_esa_landcover_timeseries_zonal_statistics(\"arizona_esa_landcover_1992_2015.tif\", \n",
        "                                                                                        \"arizona_county_boundaries.geojson\", \n",
        "                                                                                        \"NAME\")"
      ],
      "execution_count": 0,
      "outputs": []
    },
    {
      "cell_type": "markdown",
      "metadata": {
        "id": "VRNt7-DWNH79",
        "colab_type": "text"
      },
      "source": [
        "# Return the zonal statistics DataFrame"
      ]
    },
    {
      "cell_type": "code",
      "metadata": {
        "id": "Yzvd3ldy4tZh",
        "colab_type": "code",
        "colab": {}
      },
      "source": [
        "arizona_esa_lc_zonal_statistics_df"
      ],
      "execution_count": 0,
      "outputs": []
    },
    {
      "cell_type": "markdown",
      "metadata": {
        "id": "UGCuXbFyNMv9",
        "colab_type": "text"
      },
      "source": [
        "# Subset the DataFrame for Pima County"
      ]
    },
    {
      "cell_type": "code",
      "metadata": {
        "id": "2NjVdpgX435D",
        "colab_type": "code",
        "colab": {}
      },
      "source": [
        "arizona_esa_lc_zonal_statistics_df[arizona_esa_lc_zonal_statistics_df.NAME == \"Pima\"]"
      ],
      "execution_count": 0,
      "outputs": []
    },
    {
      "cell_type": "markdown",
      "metadata": {
        "id": "kAu5K7GMNQd3",
        "colab_type": "text"
      },
      "source": [
        "# Plot the Pima County subset"
      ]
    },
    {
      "cell_type": "code",
      "metadata": {
        "id": "h7tY1XNH44Bb",
        "colab_type": "code",
        "colab": {}
      },
      "source": [
        "arizona_esa_lc_zonal_statistics_df[arizona_esa_lc_zonal_statistics_df.NAME == \"Pima\"].plot()"
      ],
      "execution_count": 0,
      "outputs": []
    },
    {
      "cell_type": "markdown",
      "metadata": {
        "id": "J6FU-E6uNTb1",
        "colab_type": "text"
      },
      "source": [
        "# Remove the legend for figure aesthetics"
      ]
    },
    {
      "cell_type": "code",
      "metadata": {
        "id": "aTEIO9Re5ncG",
        "colab_type": "code",
        "colab": {}
      },
      "source": [
        "arizona_esa_lc_zonal_statistics_df[arizona_esa_lc_zonal_statistics_df.NAME == \"Pima\"].plot(legend=False)"
      ],
      "execution_count": 0,
      "outputs": []
    },
    {
      "cell_type": "markdown",
      "metadata": {
        "id": "delzo0V2NXy_",
        "colab_type": "text"
      },
      "source": [
        "# Re-calculate land cover change statistics with merged IPCC land cover categories"
      ]
    },
    {
      "cell_type": "code",
      "metadata": {
        "id": "DgoA0RxXP9Zl",
        "colab_type": "code",
        "colab": {}
      },
      "source": [
        "def generate_ipcc_landcover_timeseries_zonal_statistics(regional_landcover_data,\n",
        "                                                        zones_statistics_boundaries, \n",
        "                                                        identifier_column):\n",
        "    \n",
        "    # ESA Land cover categories\n",
        "    category_map = {0:\"No data\",\n",
        "                    10:\"Cropland, rainfed\",\n",
        "                    11:\"Herbaceous cover\",\n",
        "                    12:\"Tree or shrub cover\",\n",
        "                    20:\"Cropland, irrigated or post-flooding\",\n",
        "                    30:\"Mosaic cropland (>50%) / natural vegetation (tree, shrub, herbaceous cover) (<50%)\",\n",
        "                    40:\"Mosaic natural vegetation (tree, shrub, herbaceous cover) (>50%) / cropland (<50%)\",\n",
        "                    50:\"Tree cover, broadleaved, evergreen, closed to open (>15%)\",\n",
        "                    60:\"Tree cover, broadleaved, deciduous, closed to open (>15%)\",\n",
        "                    61:\"Tree cover, broadleaved, deciduous, closed (>40%)\",\n",
        "                    62:\"Tree cover, broadleaved, deciduous, open (15-40%)\",\n",
        "                    70:\"Tree cover, needleleaved, evergreen, closed to open (>15%)\",\n",
        "                    71:\"Tree cover, needleleaved, evergreen, closed (>40%)\",\n",
        "                    72:\"Tree cover, needleleaved, evergreen, open (15-40%)\",\n",
        "                    80:\"Tree cover, needleleaved, deciduous, closed to open (>15%)\",\n",
        "                    81:\"Tree cover, needleleaved, deciduous, closed (>40%)\",\n",
        "                    82:\"Tree cover, needleleaved, deciduous, open (15-40%)\",\n",
        "                    90:\"Tree cover, mixed leaf type (broadleaved and needleleaved)\",\n",
        "                    100:\"Mosaic tree and shrub (>50%) / herbaceous cover (<50%)\",\n",
        "                    110:\"Mosaic herbaceous cover (>50%) / tree and shrub (<50%)\",\n",
        "                    120:\"Shrubland\",\n",
        "                    121:\"Shrubland evergreen\",\n",
        "                    122:\"Shrubland deciduous\",\n",
        "                    130:\"Grassland\",\n",
        "                    140:\"Lichens and mosses\",\n",
        "                    150:\"Sparse vegetation (tree, shrub, herbaceous cover) (<15%)\",\n",
        "                    151:\"Sparse tree (<15%)\",\n",
        "                    152:\"Sparse shrub (<15%)\",\n",
        "                    153:\"Sparse herbaceous cover (<15%)\",\n",
        "                    160:\"Tree cover, flooded, fresh or brakish water\",\n",
        "                    170:\"Tree cover, flooded, saline water\",\n",
        "                    180:\"Shrub or herbaceous cover, flooded, fresh/saline/brakish water\",\n",
        "                    190:\"Urban areas\",\n",
        "                    200:\"Bare areas\",\n",
        "                    201:\"Consolidated bare areas\",\n",
        "                    202:\"Unconsolidated bare areas\",\n",
        "                    210:\"Water bodies\",\n",
        "                    220:\"Permanent snow and ice\"}\n",
        "    \n",
        "    # List of land cover category values from dictionary\n",
        "    lulcc_list = list(category_map.values())\n",
        "    lulcc_list.append(identifier_column)\n",
        "    lulcc_list.append(\"Year\")\n",
        "    \n",
        "    # Create an empty list to catch all the zonal statistics calculations (lists of dictionaries)\n",
        "    lists_of_annual_zonal_statistics = []\n",
        "\n",
        "    # Run a for loop to calculate zonal statistics for each year of land cover data (1992-2015)\n",
        "    for i in range(24):\n",
        "        lists_of_annual_zonal_statistics.append(zonal_stats(zones_statistics_boundaries,\n",
        "                                                        regional_landcover_data, \n",
        "                                                        band=i+1, \n",
        "                                                        categorical=True, \n",
        "                                                        category_map=category_map))\n",
        "        \n",
        "    # Convert the list of lists of dictionaries to a long-form pandas DataFrame\n",
        "    annual_zonal_statistics_df = pd.DataFrame(lists_of_annual_zonal_statistics).stack().apply(pd.Series)\n",
        "\n",
        "    # Rename the DataFrame multiindex levels \n",
        "    annual_zonal_statistics_df.index.names = ['Year', identifier_column]\n",
        "    \n",
        "    # Reset the DataFrame to a single index (\"county\")\n",
        "    annual_zonal_statistics_df.reset_index(level=\"Year\", inplace=True)\n",
        "\n",
        "    # Modify time index to reflect common era years\n",
        "    annual_zonal_statistics_df[\"Year\"] = pd.to_datetime(annual_zonal_statistics_df[\"Year\"] + 1992, format=\"%Y\")\n",
        "    \n",
        "    # Reset index of DataFrame entirely\n",
        "    annual_zonal_statistics_df.reset_index(inplace=True)\n",
        "    \n",
        "    # Define nested function to remove duplicate elements from a list\n",
        "    def removeDuplicates(listofElements):\n",
        "    \n",
        "    # Create an empty list to store unique elements\n",
        "        uniqueList = []\n",
        "    \n",
        "    # Iterate over the original list and for each element add it to uniqueList, if it isn't already there\n",
        "        for elem in listofElements:\n",
        "            if elem not in uniqueList:\n",
        "                uniqueList.append(elem)\n",
        "    \n",
        "    # Return the list of unique elements        \n",
        "        return uniqueList\n",
        "        \n",
        "    # Calculate pixel count within each zonal statistic boundary\n",
        "    annual_zonal_statistics_df[\"pixel_count\"] = annual_zonal_statistics_df[identifier_column].map(pd.Series(dict(zip(range(len(removeDuplicates(annual_zonal_statistics_df.sum(axis=1)))), removeDuplicates(annual_zonal_statistics_df.sum(axis=1))))))\n",
        "    \n",
        "    # Map county names to integer identifier codes\n",
        "    annual_zonal_statistics_df[identifier_column] = annual_zonal_statistics_df[identifier_column].map(gpd.read_file(zones_statistics_boundaries)[identifier_column].to_dict())\n",
        "    \n",
        "    # Convert pixel counts to percentages of total for each zone\n",
        "    annual_percentage_df = pd.DataFrame(annual_zonal_statistics_df.fillna(0).drop([identifier_column,\"Year\"], axis=1).div(annual_zonal_statistics_df.pixel_count, axis=0)*100, index=annual_zonal_statistics_df.index)\n",
        "    \n",
        "    # Append the zonal boundary identifier column\n",
        "    annual_percentage_df[identifier_column] = annual_zonal_statistics_df[identifier_column].copy()\n",
        "    \n",
        "    # Append the time identifer column\n",
        "    annual_percentage_df[\"Year\"] = annual_zonal_statistics_df[\"Year\"].copy()\n",
        "    \n",
        "    # Remove pixel_count percent of total\n",
        "    annual_percentage_df.drop([\"pixel_count\"], axis=1, inplace=True)\n",
        "    \n",
        "    # Reindex the DataFrame to the land cover categories + zonal boundary identifier and time, fill NaNs with 0\n",
        "    annual_percentage_df = annual_percentage_df.reindex(lulcc_list, axis=1).fillna(0)\n",
        "      \n",
        "    # Create empty DataFrame to populate with annual ESA land cover values aggregated to IPCC land cover groupings\n",
        "    cleaned_df = pd.DataFrame(index=annual_percentage_df.index)\n",
        "        \n",
        "    # IPCC \"Agriculture\" category merged from ESA CCI Land Cover classes\n",
        "    cleaned_df[\"Agriculture\"] = annual_percentage_df[\"Cropland, rainfed\"].values + annual_percentage_df[\"Herbaceous cover\"].values + annual_percentage_df[\"Tree or shrub cover\"].values + annual_percentage_df['Cropland, irrigated or post-flooding'].values + annual_percentage_df[\"Mosaic cropland (>50%) / natural vegetation (tree, shrub, herbaceous cover) (<50%)\"].values + annual_percentage_df[\"Mosaic natural vegetation (tree, shrub, herbaceous cover) (>50%) / cropland (<50%)\"].values\n",
        "    \n",
        "    # IPCC \"Forest\" category merged from ESA CCI Land Cover classes\n",
        "    cleaned_df[\"Forest\"] = annual_percentage_df['Tree cover, broadleaved, evergreen, closed to open (>15%)'].values + annual_percentage_df['Tree cover, broadleaved, deciduous, closed to open (>15%)'].values + annual_percentage_df['Tree cover, broadleaved, deciduous, closed (>40%)'].values + annual_percentage_df['Tree cover, broadleaved, deciduous, open (15-40%)'].values + annual_percentage_df['Tree cover, needleleaved, evergreen, closed to open (>15%)'].values + annual_percentage_df['Tree cover, needleleaved, evergreen, closed (>40%)'].values + annual_percentage_df['Tree cover, needleleaved, evergreen, open (15-40%)'].values + annual_percentage_df['Tree cover, needleleaved, deciduous, closed to open (>15%)'].values + annual_percentage_df['Tree cover, needleleaved, deciduous, closed (>40%)'].values + annual_percentage_df['Tree cover, needleleaved, deciduous, open (15-40%)'].values + annual_percentage_df['Tree cover, mixed leaf type (broadleaved and needleleaved)'].values + annual_percentage_df['Mosaic tree and shrub (>50%) / herbaceous cover (<50%)'].values + annual_percentage_df['Tree cover, flooded, fresh or brakish water'].values + annual_percentage_df['Tree cover, flooded, saline water'].values\n",
        "        \n",
        "    # IPCC \"Grassland\" category merged from ESA CCI Land Cover classes\n",
        "    cleaned_df[\"Grassland\"] = annual_percentage_df['Mosaic herbaceous cover (>50%) / tree and shrub (<50%)'].values + annual_percentage_df['Grassland'].values\n",
        "        \n",
        "    # IPCC \"Wetland\" category merged from ESA CCI Land Cover classes\n",
        "    cleaned_df[\"Wetland\"] = annual_percentage_df['Shrub or herbaceous cover, flooded, fresh/saline/brakish water'].values\n",
        "    \n",
        "    # IPCC \"Settlement\" category merged from ESA CCI Land Cover classes\n",
        "    cleaned_df[\"Settlement\"] = annual_percentage_df['Urban areas'].values\n",
        "    \n",
        "    # IPCC \"Other\" category merged from ESA CCI Land Cover classes\n",
        "    cleaned_df[\"Other\"] = annual_percentage_df['Shrubland'].values + annual_percentage_df['Shrubland evergreen'].values + annual_percentage_df['Shrubland deciduous'].values + annual_percentage_df['Lichens and mosses'].values + annual_percentage_df['Sparse vegetation (tree, shrub, herbaceous cover) (<15%)'].values + annual_percentage_df['Sparse tree (<15%)'].values + annual_percentage_df['Sparse shrub (<15%)'].values + annual_percentage_df['Sparse herbaceous cover (<15%)'].values + annual_percentage_df['Bare areas'].values + annual_percentage_df['Consolidated bare areas'].values + annual_percentage_df['Unconsolidated bare areas'].values + annual_percentage_df['Water bodies'].values\n",
        "        \n",
        "    # \"No data\" category\n",
        "    cleaned_df['No data'] = annual_percentage_df['No data'].values\n",
        "    \n",
        "    # Zonal statistics boundary identifier\n",
        "    cleaned_df[identifier_column] = annual_percentage_df[identifier_column].copy()\n",
        "\n",
        "    # Zonal statistics date identifier\n",
        "    cleaned_df[\"Year\"] = annual_percentage_df[\"Year\"].copy()\n",
        "\n",
        "    # Index on identifier_column and \"Year\"\n",
        "    cleaned_df.set_index(\"Year\", inplace=True)\n",
        "  \n",
        "    return cleaned_df"
      ],
      "execution_count": 0,
      "outputs": []
    },
    {
      "cell_type": "markdown",
      "metadata": {
        "id": "Uq8vMIoUNepm",
        "colab_type": "text"
      },
      "source": [
        "# Create variable for IPCC land cover category results"
      ]
    },
    {
      "cell_type": "code",
      "metadata": {
        "id": "a2rSCiOdQKZO",
        "colab_type": "code",
        "colab": {}
      },
      "source": [
        "arizona_ipcc_lc_zonal_statistics_df = generate_ipcc_landcover_timeseries_zonal_statistics(\"arizona_esa_landcover_1992_2015.tif\", \n",
        "                                                                                          \"arizona_county_boundaries.geojson\", \n",
        "                                                                                          \"NAME\")"
      ],
      "execution_count": 0,
      "outputs": []
    },
    {
      "cell_type": "markdown",
      "metadata": {
        "id": "MBo3s6U1Nh8Z",
        "colab_type": "text"
      },
      "source": [
        "# Return IPCC results"
      ]
    },
    {
      "cell_type": "code",
      "metadata": {
        "id": "-nSoRjHvQfHt",
        "colab_type": "code",
        "colab": {}
      },
      "source": [
        "arizona_ipcc_lc_zonal_statistics_df"
      ],
      "execution_count": 0,
      "outputs": []
    },
    {
      "cell_type": "markdown",
      "metadata": {
        "id": "ZFi57LVXNkV4",
        "colab_type": "text"
      },
      "source": [
        "# Subset IPCC results for Pima County"
      ]
    },
    {
      "cell_type": "code",
      "metadata": {
        "id": "6dJviGdyjgwY",
        "colab_type": "code",
        "colab": {}
      },
      "source": [
        "arizona_ipcc_lc_zonal_statistics_df[arizona_ipcc_lc_zonal_statistics_df.NAME == \"Pima\"]"
      ],
      "execution_count": 0,
      "outputs": []
    },
    {
      "cell_type": "markdown",
      "metadata": {
        "id": "L70wnjkNNn6n",
        "colab_type": "text"
      },
      "source": [
        "# Plot the IPCC Pima County subset"
      ]
    },
    {
      "cell_type": "code",
      "metadata": {
        "id": "SeQNvfNv6c3F",
        "colab_type": "code",
        "colab": {}
      },
      "source": [
        "arizona_ipcc_lc_zonal_statistics_df[arizona_ipcc_lc_zonal_statistics_df.NAME == \"Pima\"].plot()"
      ],
      "execution_count": 0,
      "outputs": []
    },
    {
      "cell_type": "markdown",
      "metadata": {
        "id": "eJBXca5KNugV",
        "colab_type": "text"
      },
      "source": [
        "# Write a convenience function to visualize land cover change statistics and the zonal boundaries"
      ]
    },
    {
      "cell_type": "code",
      "metadata": {
        "id": "FZyvZznR6gol",
        "colab_type": "code",
        "colab": {}
      },
      "source": [
        "def make_a_cool_visualization(boundary_vector, land_cover_zonal_statistics_time_series_df, attribute_join_column, zone_of_interest):\n",
        "  gdf = gpd.read_file(boundary_vector)\n",
        "  df = land_cover_zonal_statistics_time_series_df[land_cover_zonal_statistics_time_series_df[attribute_join_column] == zone_of_interest]\n",
        "  df = df.drop([attribute_join_column], axis=1)\n",
        "\n",
        "  fig, ax = plt.subplots(1,2)\n",
        "  gdf.plot(ax=ax[0], cmap=\"Greys\", zorder=1)\n",
        "  gdf[gdf[attribute_join_column] == zone_of_interest].plot(ax=ax[0], color=\"Orange\", zorder=3)  \n",
        "  df.plot(ax=ax[1], cmap=\"Accent\")\n",
        "  ax[1].legend(loc='upper center', bbox_to_anchor=(-0.1, -0.2), fancybox=True, shadow=True, ncol=3)\n",
        "  plt.suptitle(\"Land Cover Change in {}\".format(zone_of_interest), fontweight=\"bold\")\n",
        "  plt.plot()"
      ],
      "execution_count": 0,
      "outputs": []
    },
    {
      "cell_type": "markdown",
      "metadata": {
        "id": "wFnK8QM9N3ev",
        "colab_type": "text"
      },
      "source": [
        "# Call the function for Pima County"
      ]
    },
    {
      "cell_type": "code",
      "metadata": {
        "id": "wbi3jpmP7GMj",
        "colab_type": "code",
        "colab": {}
      },
      "source": [
        "make_a_cool_visualization(\"arizona_county_boundaries.geojson\",\n",
        "                          arizona_ipcc_lc_zonal_statistics_df,\n",
        "                          \"NAME\",\n",
        "                          \"Pima\")"
      ],
      "execution_count": 0,
      "outputs": []
    },
    {
      "cell_type": "markdown",
      "metadata": {
        "id": "qGfA7IU1N6OX",
        "colab_type": "text"
      },
      "source": [
        "# Call the function Maricopa County"
      ]
    },
    {
      "cell_type": "code",
      "metadata": {
        "id": "CzdXDdwP8SPx",
        "colab_type": "code",
        "colab": {}
      },
      "source": [
        "make_a_cool_visualization(\"arizona_county_boundaries.geojson\",\n",
        "                          arizona_ipcc_lc_zonal_statistics_df,\n",
        "                          \"NAME\",\n",
        "                          \"Maricopa\")"
      ],
      "execution_count": 0,
      "outputs": []
    },
    {
      "cell_type": "markdown",
      "metadata": {
        "id": "iwJqDv08N8-S",
        "colab_type": "text"
      },
      "source": [
        "# Generate a list of counties in Arizona from the list of unique zones in the land cover statistics data set"
      ]
    },
    {
      "cell_type": "code",
      "metadata": {
        "id": "hlYk_2h7-_Rh",
        "colab_type": "code",
        "colab": {}
      },
      "source": [
        "arizona_ipcc_lc_zonal_statistics_df.NAME.unique().tolist()"
      ],
      "execution_count": 0,
      "outputs": []
    },
    {
      "cell_type": "markdown",
      "metadata": {
        "id": "Mj_6Uw5COFsg",
        "colab_type": "text"
      },
      "source": [
        "# Iterate through all counties in Arizona with a for loop"
      ]
    },
    {
      "cell_type": "code",
      "metadata": {
        "id": "uziaXYgl_Lzf",
        "colab_type": "code",
        "colab": {}
      },
      "source": [
        "for county in arizona_ipcc_lc_zonal_statistics_df.NAME.unique().tolist():\n",
        "  make_a_cool_visualization(\"arizona_county_boundaries.geojson\",\n",
        "                          arizona_ipcc_lc_zonal_statistics_df,\n",
        "                          \"NAME\",\n",
        "                          county)"
      ],
      "execution_count": 0,
      "outputs": []
    },
    {
      "cell_type": "markdown",
      "metadata": {
        "id": "U1xQLxC7ONHG",
        "colab_type": "text"
      },
      "source": [
        "# Thanks!"
      ]
    }
  ]
}